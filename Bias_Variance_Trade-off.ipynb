{
 "cells": [
  {
   "cell_type": "code",
   "execution_count": 84,
   "metadata": {},
   "outputs": [],
   "source": [
    "%matplotlib inline\n",
    "from scipy import io\n",
    "import numpy as np\n",
    "from matplotlib import pyplot as plt\n",
    "from sklearn import preprocessing"
   ]
  },
  {
   "cell_type": "markdown",
   "metadata": {},
   "source": [
    "#### Loading train,validate and test set "
   ]
  },
  {
   "cell_type": "code",
   "execution_count": 12,
   "metadata": {},
   "outputs": [],
   "source": [
    "data = io.loadmat(\"ex5data1.mat\")\n",
    "X = data['X']\n",
    "y = data['y']\n",
    "X_test = data['Xtest']\n",
    "y_test = data['ytest']\n",
    "X_val = data['Xval']\n",
    "y_val = data['yval']"
   ]
  },
  {
   "cell_type": "markdown",
   "metadata": {},
   "source": [
    "#### Plot training data for visualization"
   ]
  },
  {
   "cell_type": "code",
   "execution_count": 32,
   "metadata": {},
   "outputs": [
    {
     "data": {
      "image/png": "[encoded data removed]",
      "text/plain": [
       "<matplotlib.figure.Figure at 0x255924197f0>"
      ]
     },
     "metadata": {},
     "output_type": "display_data"
    }
   ],
   "source": [
    "plt.plot(X,y, 'rx')\n",
    "plt.axis([-60, 50, -10, 60])\n",
    "plt.xlabel('Change in water level (x)')\n",
    "plt.ylabel('Water flowing out of the dam (y)')\n",
    "plt.show()"
   ]
  },
  {
   "cell_type": "markdown",
   "metadata": {},
   "source": [
    "#### Compute regularized linear regression cost function"
   ]
  },
  {
   "cell_type": "code",
   "execution_count": 65,
   "metadata": {},
   "outputs": [],
   "source": [
    "def ln_regularized(Weights,num_examples, _lbd):\n",
    "    \"\"\"\n",
    "    Input:\n",
    "        Weights (ndarray) : Model Weights \n",
    "        _lbd (float)  : value of regularized term\n",
    "    Output:\n",
    "        Regularized (float) \n",
    "    \"\"\"\n",
    "    Regularized = np.dot(Weights[1:].ravel(), Weights[1:].ravel()) * (_lbd/(2*num_examples))\n",
    "    return Regularized"
   ]
  },
  {
   "cell_type": "code",
   "execution_count": 66,
   "metadata": {
    "collapsed": true
   },
   "outputs": [],
   "source": [
    "def linear_regression_cost(X, y, Weights, _lbd=0):\n",
    "    \"\"\"\n",
    "    Input : X (ndarray) : training set input\n",
    "            y (ndarray) : training set output\n",
    "            Weights (ndarray) : model Weights that out cost function based on\n",
    "            _lbd (float) : model regularized term\n",
    "            \n",
    "    Output: Cost (float) : current model cost\n",
    "    \"\"\"\n",
    "    Cost = 0.0\n",
    "    m, _ = X.shape\n",
    "    \n",
    "    hypo = X.dot(Weights)\n",
    "    Cost = (hypo - y).T.dot(hypo - y) / (2*m)\n",
    "    Regularized = ln_regularized(Weights, m, _lbd)\n",
    "    \n",
    "    return Cost + Regularized"
   ]
  },
  {
   "cell_type": "markdown",
   "metadata": {},
   "source": [
    "#### Unit test our cost function with weights = [1,1] and $\\lambda$=1.This cost should be 303.993"
   ]
  },
  {
   "cell_type": "code",
   "execution_count": 67,
   "metadata": {},
   "outputs": [
    {
     "data": {
      "text/plain": [
       "array([[ 303.99319222]])"
      ]
     },
     "execution_count": 67,
     "metadata": {},
     "output_type": "execute_result"
    }
   ],
   "source": [
    "initial_weights = np.array([[1],[1]])\n",
    "linear_regression_cost(np.insert(X, 0, 1, axis=1), y, initial_weights, 1)"
   ]
  },
  {
   "cell_type": "markdown",
   "metadata": {},
   "source": [
    "#### Compute regularized linear regression gradient"
   ]
  },
  {
   "cell_type": "code",
   "execution_count": 77,
   "metadata": {},
   "outputs": [],
   "source": [
    "def linear_regression_gradient(X, y, Weights, alpha=0.1, _lbd=0):\n",
    "    \"\"\"\n",
    "    Input:\n",
    "        X (ndarray) : training set input\n",
    "        y (ndarray) : training set ouput\n",
    "        Weights (ndarray) : Current model Weights\n",
    "        alpha (float) : learning rate\n",
    "        _lbd (float) : regularized term\n",
    "        \n",
    "    Output : \n",
    "        Weight_grad (ndarray) : gradient of linear regression\n",
    "    \"\"\"\n",
    "    m,_ = X.shape\n",
    "    Weight_grad = np.zeros(Weights.shape)\n",
    "    Weight_grad = np.dot(X.T, np.dot(X, Weights) - y) * (alpha/m)\n",
    "    Weight_grad[1:] +=  Weights[1:] * (_lbd/m)\n",
    "    \n",
    "    return Weight_grad"
   ]
  },
  {
   "cell_type": "markdown",
   "metadata": {},
   "source": [
    "#### Unit test out linear regression gradient function with Weights = [1,1] , $\\lambda$=1, and learning rate $\\alpha$=1.This value should be [-15.30, 598.250]"
   ]
  },
  {
   "cell_type": "code",
   "execution_count": 79,
   "metadata": {},
   "outputs": [
    {
     "data": {
      "text/plain": [
       "array([[ -15.30301567],\n",
       "       [ 598.25074417]])"
      ]
     },
     "execution_count": 79,
     "metadata": {},
     "output_type": "execute_result"
    }
   ],
   "source": [
    "initial_weights = np.array([[1],[1]])\n",
    "linear_regression_gradient(np.insert(X, 0, 1, axis=1), y, initial_weights, alpha=1, _lbd=1)"
   ]
  },
  {
   "cell_type": "markdown",
   "metadata": {},
   "source": [
    "#### Training linear regression model"
   ]
  },
  {
   "cell_type": "code",
   "execution_count": 81,
   "metadata": {},
   "outputs": [],
   "source": [
    "def linear_regression_training(X, y, alpha=0.1, _lbd=0, num_iters=200):\n",
    "    \"\"\"\n",
    "    Training linear regression model using gradient descent, to find the optimal weights.\n",
    "    Input :\n",
    "            X (ndarray) : training set input\n",
    "            y (ndarray) : training set output\n",
    "            _lbd (float) : regularized term\n",
    "    Output: \n",
    "            weights (ndarray) : optimal weights of linear regression model\n",
    "    \"\"\"\n",
    "    \n",
    "    weights = np.zeros((X.shape[1], 1))\n",
    "    \n",
    "    for i in range(num_iters):\n",
    "        weights -= linear_regression_gradient(X, y, weights, alpha, _lbd)\n",
    "                       \n",
    "    return weights"
   ]
  },
  {
   "cell_type": "markdown",
   "metadata": {},
   "source": [
    "#### Scale training set to make it have zero mean and unit variance"
   ]
  },
  {
   "cell_type": "code",
   "execution_count": 93,
   "metadata": {},
   "outputs": [],
   "source": [
    "X = preprocessing.scale(X)\n",
    "# X.std()  -> variant should be 1.0\n",
    "# X.mean() -> mean should be 0 "
   ]
  },
  {
   "cell_type": "code",
   "execution_count": 94,
   "metadata": {},
   "outputs": [],
   "source": [
    "model_weights = linear_regression_training(np.insert(X, 0, 1, axis=1), y, alpha=1, _lbd=0, num_iters=200)"
   ]
  },
  {
   "cell_type": "markdown",
   "metadata": {},
   "source": [
    "#### Plot our training data and our prediction model"
   ]
  },
  {
   "cell_type": "code",
   "execution_count": 95,
   "metadata": {},
   "outputs": [
    {
     "data": {
      "image/png": "[encoded data removed]",
      "text/plain": [
       "<matplotlib.figure.Figure at 0x255928204a8>"
      ]
     },
     "metadata": {},
     "output_type": "display_data"
    }
   ],
   "source": [
    "plt.plot(X, y, 'rx', X, np.dot(np.insert(X, 0, 1, axis=1), model_weights))\n",
    "plt.xlabel('Change in water level (x)')\n",
    "plt.ylabel('Water flowing out of the dam (y)')\n",
    "plt.show()"
   ]
  }
 ],
 "metadata": {
  "kernelspec": {
   "display_name": "Python 3",
   "language": "python",
   "name": "python3"
  },
  "language_info": {
   "codemirror_mode": {
    "name": "ipython",
    "version": 3
   },
   "file_extension": ".py",
   "mimetype": "text/x-python",
   "name": "python",
   "nbconvert_exporter": "python",
   "pygments_lexer": "ipython3",
   "version": "3.6.3"
  }
 },
 "nbformat": 4,
 "nbformat_minor": 2
}
