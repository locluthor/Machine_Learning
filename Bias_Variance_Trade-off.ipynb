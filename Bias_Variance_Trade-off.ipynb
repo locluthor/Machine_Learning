{
 "cells": [
  {
   "cell_type": "code",
   "execution_count": 492,
   "metadata": {
    "collapsed": true
   },
   "outputs": [],
   "source": [
    "%matplotlib inline\n",
    "from scipy import io\n",
    "import numpy as np\n",
    "from matplotlib import pyplot as plt\n",
    "from sklearn import preprocessing\n",
    "from sklearn.linear_model import LinearRegression\n",
    "from sklearn.metrics import mean_squared_error\n",
    "from sklearn.preprocessing import PolynomialFeatures\n",
    "from sklearn.linear_model import Ridge\n",
    "from sklearn.linear_model import Lasso"
   ]
  },
  {
   "cell_type": "markdown",
   "metadata": {},
   "source": [
    "#### Loading train,validate and test set "
   ]
  },
  {
   "cell_type": "code",
   "execution_count": 35,
   "metadata": {
    "collapsed": true
   },
   "outputs": [],
   "source": [
    "data = io.loadmat(\"ex5data1.mat\")\n",
    "X = data['X']\n",
    "y = data['y']\n",
    "X_test = data['Xtest']\n",
    "y_test = data['ytest']\n",
    "X_val = data['Xval']\n",
    "y_val = data['yval']"
   ]
  },
  {
   "cell_type": "markdown",
   "metadata": {},
   "source": [
    "#### Plot training data for visualization"
   ]
  },
  {
   "cell_type": "code",
   "execution_count": 36,
   "metadata": {},
   "outputs": [
    {
     "data": {
      "image/png": "[encoded data removed]",
      "text/plain": [
       "<matplotlib.figure.Figure at 0x1c1b5276630>"
      ]
     },
     "metadata": {},
     "output_type": "display_data"
    }
   ],
   "source": [
    "plt.plot(X,y, 'rx')\n",
    "plt.axis([-60, 50, -10, 60])\n",
    "plt.xlabel('Change in water level (x)')\n",
    "plt.ylabel('Water flowing out of the dam (y)')\n",
    "plt.show()"
   ]
  },
  {
   "cell_type": "markdown",
   "metadata": {},
   "source": [
    "#### Save training data mean and range for scaling"
   ]
  },
  {
   "cell_type": "code",
   "execution_count": null,
   "metadata": {
    "collapsed": true
   },
   "outputs": [],
   "source": [
    "TRAINING_SET_MEAN = np.mean(X, axis=0)\n",
    "TRAINING_SET_RANGE = np.max(X, axis=0) - np.min(X, axis=0)"
   ]
  },
  {
   "cell_type": "markdown",
   "metadata": {},
   "source": [
    "#### Compute regularized linear regression cost function"
   ]
  },
  {
   "cell_type": "code",
   "execution_count": 4,
   "metadata": {
    "collapsed": true
   },
   "outputs": [],
   "source": [
    "def ln_regularized(Weights,num_examples, _lbd):\n",
    "    \"\"\"\n",
    "    Input:\n",
    "        Weights (ndarray) : Model Weights \n",
    "        _lbd (float)  : value of regularized term\n",
    "    Output:\n",
    "        Regularized (float) \n",
    "    \"\"\"\n",
    "    Regularized = np.dot(Weights[1:].ravel(), Weights[1:].ravel()) * (_lbd/(2*num_examples))\n",
    "    return Regularized"
   ]
  },
  {
   "cell_type": "code",
   "execution_count": 107,
   "metadata": {
    "collapsed": true
   },
   "outputs": [],
   "source": [
    "def linear_regression_cost(X, y, Weights, _lbd=0):\n",
    "    \"\"\"\n",
    "    Input : X (ndarray) : training set input\n",
    "            y (ndarray) : training set output\n",
    "            Weights (ndarray) : model Weights that out cost function based on\n",
    "            _lbd (float) : model regularized term\n",
    "            \n",
    "    Output: Cost (float) : current model cost\n",
    "    \"\"\"\n",
    "    Cost = 0.0\n",
    "    m, _ = X.shape\n",
    "    \n",
    "    X_bias = np.insert(X, 0, 1, axis=1)\n",
    "    \n",
    "    hypo = np.dot(X_bias, Weights)\n",
    "    Cost = np.dot((hypo - y).T, hypo - y) / (2*m)\n",
    "    Regularized = ln_regularized(Weights, m, _lbd)\n",
    "    \n",
    "    return Cost + Regularized"
   ]
  },
  {
   "cell_type": "markdown",
   "metadata": {},
   "source": [
    "#### Unit test our cost function with weights = [1,1] and $\\lambda$=1.This cost should be 303.993"
   ]
  },
  {
   "cell_type": "code",
   "execution_count": 108,
   "metadata": {},
   "outputs": [
    {
     "data": {
      "text/plain": [
       "array([[ 303.99319222]])"
      ]
     },
     "execution_count": 108,
     "metadata": {},
     "output_type": "execute_result"
    }
   ],
   "source": [
    "initial_weights = np.array([[1],[1]])\n",
    "linear_regression_cost(X, y, initial_weights, 1)"
   ]
  },
  {
   "cell_type": "markdown",
   "metadata": {},
   "source": [
    "#### Compute regularized linear regression gradient"
   ]
  },
  {
   "cell_type": "code",
   "execution_count": 127,
   "metadata": {
    "collapsed": true
   },
   "outputs": [],
   "source": [
    "def linear_regression_gradient(X, y, Weights, alpha=0.1, _lbd=0):\n",
    "    \"\"\"\n",
    "    Input:\n",
    "        X (ndarray) : training set input\n",
    "        y (ndarray) : training set ouput\n",
    "        Weights (ndarray) : Current model Weights\n",
    "        alpha (float) : learning rate\n",
    "        _lbd (float) : regularized term\n",
    "        \n",
    "    Output : \n",
    "        Weight_grad (ndarray) : gradient of linear regression\n",
    "    \"\"\"\n",
    "    m,_ = X.shape\n",
    "    X_ = np.insert(X, 0, 1, axis=1)\n",
    "    Weight_grad = np.zeros(Weights.shape)\n",
    "    Weight_grad = np.dot(X_.T, np.dot(X_, Weights) - y) * (alpha/m)\n",
    "    Weight_grad[1:] +=  Weights[1:] * (_lbd/m)\n",
    "    \n",
    "    return Weight_grad"
   ]
  },
  {
   "cell_type": "markdown",
   "metadata": {},
   "source": [
    "#### Unit test out linear regression gradient function with Weights = [1,1] , $\\lambda$=1, and learning rate $\\alpha$=1.This value should be [-15.30, 598.250]"
   ]
  },
  {
   "cell_type": "code",
   "execution_count": 128,
   "metadata": {},
   "outputs": [
    {
     "data": {
      "text/plain": [
       "array([[ -15.30301567],\n",
       "       [ 598.25074417]])"
      ]
     },
     "execution_count": 128,
     "metadata": {},
     "output_type": "execute_result"
    }
   ],
   "source": [
    "initial_weights = np.array([[1],[1]])\n",
    "linear_regression_gradient(X, y, initial_weights, alpha=1, _lbd=1)"
   ]
  },
  {
   "cell_type": "markdown",
   "metadata": {},
   "source": [
    "#### Training linear regression model"
   ]
  },
  {
   "cell_type": "code",
   "execution_count": 193,
   "metadata": {
    "collapsed": true
   },
   "outputs": [],
   "source": [
    "def linear_regression_training(X, y, alpha=0.1, _lbd=0, num_iters=200):\n",
    "    \"\"\"\n",
    "    Training linear regression model using gradient descent, to find the optimal weights.\n",
    "    Input :\n",
    "            X (ndarray) : training set input\n",
    "            y (ndarray) : training set output\n",
    "            _lbd (float) : regularized term\n",
    "    Output: \n",
    "            weights (ndarray) : optimal weights of linear regression model\n",
    "    \"\"\"\n",
    "    \n",
    "    weights = np.zeros((X.shape[1]+1, 1))\n",
    "    \n",
    "    # features scaling\n",
    "    \n",
    "    for i in range(num_iters):\n",
    "        weights -= linear_regression_gradient(X, y, weights, alpha, _lbd)\n",
    "                       \n",
    "    return weights"
   ]
  },
  {
   "cell_type": "code",
   "execution_count": 212,
   "metadata": {},
   "outputs": [
    {
     "data": {
      "text/plain": [
       "array([[ 69.03919606]])"
      ]
     },
     "execution_count": 212,
     "metadata": {},
     "output_type": "execute_result"
    }
   ],
   "source": [
    "X_scale = (X - TRAINING_SET_MEAN) / TRAINING_SET_RANGE\n",
    "model_weights = linear_regression_training(X_scale[0:3,:], y[0:3], alpha=1, _lbd=1, num_iters=200)\n",
    "linear_regression_cost(X_scale[0:3, :], y[0:3], model_weights, 0)"
   ]
  },
  {
   "cell_type": "markdown",
   "metadata": {},
   "source": [
    "#### Plot our training data and our prediction model"
   ]
  },
  {
   "cell_type": "markdown",
   "metadata": {},
   "source": [
    "#### Important : Understand why the plot works???"
   ]
  },
  {
   "cell_type": "code",
   "execution_count": 213,
   "metadata": {
    "scrolled": true
   },
   "outputs": [
    {
     "data": {
      "image/png": "[encoded data removed]",
      "text/plain": [
       "<matplotlib.figure.Figure at 0x1c1b5648e48>"
      ]
     },
     "metadata": {},
     "output_type": "display_data"
    }
   ],
   "source": [
    "plt.plot(X[0:3, :], y[0:3], 'rx', X[0:3,:], np.dot(np.insert(X_scale[0:3,:], 0, 1, axis=1), model_weights))\n",
    "plt.xlabel('Change in water level (x)')\n",
    "plt.ylabel('Water flowing out of the dam (y)')\n",
    "plt.show()"
   ]
  },
  {
   "cell_type": "markdown",
   "metadata": {},
   "source": [
    "#### Compute learning curve of our linear regression model"
   ]
  },
  {
   "cell_type": "code",
   "execution_count": 195,
   "metadata": {
    "collapsed": true
   },
   "outputs": [],
   "source": [
    "def learning_curve(X, y, Xval, yval, lbd=0):\n",
    "    \"\"\"\n",
    "    Compute learning curve of our current linear regression model\n",
    "    Input : \n",
    "        X (ndarray) : training set input\n",
    "        y (ndarray) : training set output\n",
    "        Xval (ndarray) : cross-validation set input\n",
    "        yval (ndarray) : cross-validation set output\n",
    "        lbd (float) : regularized term\n",
    "    Output:\n",
    "        (error_train, error_validation) (tuple) : model error correctspond to training set \n",
    "        and validation set when number of training example inscrease\n",
    "    \"\"\"\n",
    "    \n",
    "    m,_ = X.shape\n",
    "    error_train = np.zeros((m, 1))\n",
    "    error_validation = np.zeros((m, 1))\n",
    "    \n",
    "    X_scale = (X - TRAINING_SET_MEAN) / TRAINING_SET_RANGE\n",
    "    X_val_scale = (Xval - TRAINING_SET_MEAN) / TRAINING_SET_RANGE\n",
    "    for i in range(0, m):\n",
    "        X_i = X_scale[0:i+1,:]\n",
    "        y_i = y[0:i+1]\n",
    "        weights = linear_regression_training(X_i, y_i, 1, lbd)\n",
    "        error_train[i] = linear_regression_cost(X_i, y_i, weights, 0)\n",
    "        error_validation[i] = linear_regression_cost(X_val_scale, yval, weights, 0)\n",
    "        \n",
    "    return (error_train, error_validation)"
   ]
  },
  {
   "cell_type": "code",
   "execution_count": 530,
   "metadata": {
    "collapsed": true
   },
   "outputs": [],
   "source": [
    "def plot_learning_curve(X, y, Xval, yval, lbd):\n",
    "    err_train,err_validation = learning_curve(X, y, Xval, yval, lbd)\n",
    "    m,_ = X.shape\n",
    "    for i in range(m):\n",
    "        print(err_train[i], err_validation[i])\n",
    "    plt.plot(range(0, m), err_train, label='Train error')\n",
    "    plt.title('Learning curve for linear regression')\n",
    "    plt.plot(range(0, m), err_validation, label='Validation error')\n",
    "    plt.xlabel('Number of training examples')\n",
    "    plt.ylabel('Error')\n",
    "    plt.legend([\"Train error\", \"Validation error\"])\n",
    "    plt.show()    "
   ]
  },
  {
   "cell_type": "code",
   "execution_count": 532,
   "metadata": {},
   "outputs": [
    {
     "name": "stdout",
     "output_type": "stream",
     "text": [
      "[ 0.] [ 140.18878295]\n",
      "[ 0.01285298] [ 120.90330258]\n",
      "[ 3.28659505] [ 45.01023137]\n",
      "[ 2.84267769] [ 48.36891137]\n",
      "[ 13.15404881] [ 35.86516475]\n",
      "[ 19.44396251] [ 33.8299616]\n",
      "[ 20.09852166] [ 31.9709858]\n",
      "[ 18.1728587] [ 30.86244632]\n",
      "[ 22.60940542] [ 31.13599795]\n",
      "[ 23.26146159] [ 28.93620747]\n",
      "[ 24.31724959] [ 29.55143162]\n",
      "[ 22.3739065] [ 29.43381813]\n"
     ]
    },
    {
     "data": {
      "image/png": "[encoded data removed]",
      "text/plain": [
       "<matplotlib.figure.Figure at 0x1c1b514f2e8>"
      ]
     },
     "metadata": {},
     "output_type": "display_data"
    }
   ],
   "source": [
    "TRAINING_SET_MEAN = np.mean(X, axis=0)\n",
    "TRAINING_SET_RANGE = np.max(X, axis=0) - np.min(X, axis=0)\n",
    "plot_learning_curve(X, y, X_val, y_val, 0)"
   ]
  },
  {
   "cell_type": "code",
   "execution_count": 559,
   "metadata": {},
   "outputs": [],
   "source": [
    "poly = PolynomialFeatures(8, include_bias=False)\n",
    "X_poly = poly.fit_transform(X)\n",
    "X_val_poly = poly.fit_transform(X_val)\n",
    "TRAINING_SET_MEAN = np.mean(X_poly, axis=0)\n",
    "TRAINING_SET_RANGE = np.max(X_poly, axis=0) - np.min(X_poly, axis=0)"
   ]
  },
  {
   "cell_type": "code",
   "execution_count": 565,
   "metadata": {},
   "outputs": [
    {
     "name": "stdout",
     "output_type": "stream",
     "text": [
      "[ 0.] [ 138.84677698]\n",
      "[ 0.06606404] [ 143.80711459]\n",
      "[ 7.66845436] [ 4.30488358]\n",
      "[ 4.31173507] [ 3.8940722]\n",
      "[ 3.40277989] [ 3.84876044]\n",
      "[ 2.66621564] [ 4.48754879]\n",
      "[ 2.83820031] [ 3.83242574]\n",
      "[ 2.45354364] [ 3.87467426]\n",
      "[ 2.48257734] [ 4.33504964]\n",
      "[ 2.27551378] [ 4.21880476]\n",
      "[ 2.05546107] [ 4.34131892]\n",
      "[ 2.87770891] [ 3.55318613]\n"
     ]
    },
    {
     "data": {
      "image/png": "[encoded data removed]",
      "text/plain": [
       "<matplotlib.figure.Figure at 0x1c1b94cf5c0>"
      ]
     },
     "metadata": {},
     "output_type": "display_data"
    }
   ],
   "source": [
    "plot_learning_curve(X_poly, y, X_val_poly, y_val, 0.2)"
   ]
  },
  {
   "cell_type": "markdown",
   "metadata": {},
   "source": [
    "#### Using Scikit Learn Linear Regression"
   ]
  },
  {
   "cell_type": "code",
   "execution_count": 467,
   "metadata": {
    "collapsed": true
   },
   "outputs": [],
   "source": [
    "def sk_learning_curve(X, y, Xval, yval, lbd):\n",
    "    m,_ = X.shape\n",
    "    err_train = np.zeros((m, 1))\n",
    "    err_validate = np.zeros((m, 1))\n",
    "    lr = Ridge(alpha=lbd)\n",
    "    for i in range(m):\n",
    "        lr.fit(X[0:i+1,:], y[0:i+1])\n",
    "        err_train[i] = mean_squared_error(lr.predict(X[0:i+1,:]), y[0:i+1])\n",
    "        err_validate[i] = mean_squared_error(lr.predict(Xval), yval)\n",
    "        \n",
    "    return (err_train, err_validate)"
   ]
  },
  {
   "cell_type": "code",
   "execution_count": 575,
   "metadata": {
    "scrolled": true
   },
   "outputs": [],
   "source": [
    "def visualize_learning_curve(X, y, X_val, y_val, lbd=0):\n",
    "    err_train, error_validate = sk_learning_curve(X, y, X_val, y_val, lbd)\n",
    "    for i in range(err_train.shape[0]):\n",
    "        print(err_train[i], error_validate[i])\n",
    "    plt.plot(range(err_train.shape[0]), err_train)\n",
    "    plt.plot(range(error_validate.shape[0]), error_validate)\n",
    "    plt.legend([\"Train error\", \"Validation error\"])\n",
    "    plt.title('Learning curve for linear regression')\n",
    "    plt.xlabel('Number of training examples')\n",
    "    plt.ylabel('Error')\n",
    "    plt.show()"
   ]
  },
  {
   "cell_type": "code",
   "execution_count": 576,
   "metadata": {},
   "outputs": [
    {
     "name": "stdout",
     "output_type": "stream",
     "text": [
      "[ 0.] [ 277.69355395]\n",
      "[ 0.00243727] [ 226.96378421]\n",
      "[ 6.57721487] [ 89.26266651]\n",
      "[ 5.68751116] [ 96.14232479]\n",
      "[ 26.30876375] [ 71.59828979]\n",
      "[ 38.88849722] [ 67.51443779]\n",
      "[ 40.19746667] [ 63.83380144]\n",
      "[ 36.34602056] [ 61.64860882]\n",
      "[ 45.21906591] [ 62.20917432]\n",
      "[ 46.52308511] [ 57.8519165]\n",
      "[ 48.63463185] [ 59.09534239]\n",
      "[ 44.74792689] [ 58.85492854]\n"
     ]
    },
    {
     "data": {
      "image/png": "[encoded data removed]",
      "text/plain": [
       "<matplotlib.figure.Figure at 0x1c1b97fa780>"
      ]
     },
     "metadata": {},
     "output_type": "display_data"
    }
   ],
   "source": [
    "visualize_learning_curve(X, y, X_val, y_val, 10)"
   ]
  },
  {
   "cell_type": "code",
   "execution_count": 580,
   "metadata": {},
   "outputs": [],
   "source": [
    "poly = PolynomialFeatures(2, include_bias=False)\n",
    "X_poly = poly.fit_transform(X)\n",
    "X_val_poly = poly.fit_transform(X_val)"
   ]
  },
  {
   "cell_type": "code",
   "execution_count": 581,
   "metadata": {},
   "outputs": [
    {
     "name": "stdout",
     "output_type": "stream",
     "text": [
      "[ 0.] [ 277.69355395]\n",
      "[ 0.] [ 273.36323114]\n",
      "[  2.23510590e-30] [ 12.59318164]\n",
      "[ 0.14107047] [ 12.6566189]\n",
      "[ 0.18731593] [ 15.30524814]\n",
      "[ 0.62795037] [ 14.78345822]\n",
      "[ 0.73580916] [ 14.53061618]\n",
      "[ 1.09291219] [ 13.47125709]\n",
      "[ 2.03939859] [ 13.7831235]\n",
      "[ 1.84574767] [ 13.66302284]\n",
      "[ 1.9105241] [ 13.98737876]\n",
      "[ 2.03732231] [ 13.98929909]\n"
     ]
    },
    {
     "name": "stderr",
     "output_type": "stream",
     "text": [
      "F:\\Anaconda__\\lib\\site-packages\\sklearn\\linear_model\\ridge.py:154: UserWarning: Singular matrix in solving dual problem. Using least-squares solution instead.\n",
      "  warnings.warn(\"Singular matrix in solving dual problem. Using \"\n",
      "F:\\Anaconda__\\lib\\site-packages\\scipy\\linalg\\basic.py:223: RuntimeWarning: scipy.linalg.solve\n",
      "Ill-conditioned matrix detected. Result is not guaranteed to be accurate.\n",
      "Reciprocal condition number: 5.551115123125783e-17\n",
      "  ' condition number: {}'.format(rcond), RuntimeWarning)\n"
     ]
    },
    {
     "data": {
      "image/png": "[encoded data removed]",
      "text/plain": [
       "<matplotlib.figure.Figure at 0x1c1b97353c8>"
      ]
     },
     "metadata": {},
     "output_type": "display_data"
    }
   ],
   "source": [
    "visualize_learning_curve(X_poly, y, X_val_poly, y_val, 0)"
   ]
  },
  {
   "cell_type": "code",
   "execution_count": null,
   "metadata": {
    "collapsed": true
   },
   "outputs": [],
   "source": []
  }
 ],
 "metadata": {
  "kernelspec": {
   "display_name": "Python 3",
   "language": "python",
   "name": "python3"
  },
  "language_info": {
   "codemirror_mode": {
    "name": "ipython",
    "version": 3
   },
   "file_extension": ".py",
   "mimetype": "text/x-python",
   "name": "python",
   "nbconvert_exporter": "python",
   "pygments_lexer": "ipython3",
   "version": "3.6.3"
  }
 },
 "nbformat": 4,
 "nbformat_minor": 2
}
