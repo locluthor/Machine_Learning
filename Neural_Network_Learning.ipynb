{
 "cells": [
  {
   "cell_type": "code",
   "execution_count": 1,
   "metadata": {
    "collapsed": true
   },
   "outputs": [],
   "source": [
    "%matplotlib inline\n",
    "import numpy as np\n",
    "from scipy import io\n",
    "import matplotlib.pyplot as plt\n",
    "import math"
   ]
  },
  {
   "cell_type": "markdown",
   "metadata": {},
   "source": [
    "Loading training data."
   ]
  },
  {
   "cell_type": "code",
   "execution_count": 48,
   "metadata": {
    "collapsed": true
   },
   "outputs": [],
   "source": [
    "IMAGE_SIZE = 20\n",
    "train_data = io.loadmat('ex4data1.mat')\n",
    "X = np.insert(train_data['X'], 0, 1, axis=1) # add bias column at the beginning of X\n",
    "y = train_data['y']\n",
    "y[y==10]=0 # convert matlab index to python index"
   ]
  },
  {
   "cell_type": "markdown",
   "metadata": {},
   "source": [
    "Visual training data."
   ]
  },
  {
   "cell_type": "code",
   "execution_count": 3,
   "metadata": {
    "collapsed": true
   },
   "outputs": [],
   "source": [
    "def display_data(data):\n",
    "    m,n = data.shape\n",
    "    row_width = int(np.sqrt(m))\n",
    "    img_width = img_height = int(np.sqrt(n))\n",
    "    img_show = np.empty((row_width*img_width, img_width*row_width))\n",
    "    for i in range(row_width):\n",
    "        for j in range(row_width):\n",
    "            img_show[img_height*i:(img_height*i)+img_height, img_width*j:img_width*j + img_width] = \\\n",
    "            np.reshape(data[i*row_width + j, :], (img_height, img_width), order='F')\n",
    "            \n",
    "    plt.imshow(img_show)"
   ]
  },
  {
   "cell_type": "code",
   "execution_count": 4,
   "metadata": {},
   "outputs": [
    {
     "data": {
      "image/png": "[encoded data removed]",
      "text/plain": [
       "<matplotlib.figure.Figure at 0x2c737a6b390>"
      ]
     },
     "metadata": {},
     "output_type": "display_data"
    }
   ],
   "source": [
    "idx = np.random.randint(X.shape[0], size=36)\n",
    "display_data(X[idx, 1:])"
   ]
  },
  {
   "cell_type": "markdown",
   "metadata": {},
   "source": [
    "Implement sigmoid activation function."
   ]
  },
  {
   "cell_type": "code",
   "execution_count": 5,
   "metadata": {
    "collapsed": true
   },
   "outputs": [],
   "source": [
    "def sigmoid(value):\n",
    "    return 1 / (1 + math.e ** (-value))"
   ]
  },
  {
   "cell_type": "markdown",
   "metadata": {},
   "source": [
    "Compute feedfoward prediction, our neural network have 3 layout: 1 input, 1 hidden and 1 output layout.\n",
    "So we will have 2 weight matrix that need to update: W1 with size 25x401 mapping from input layout to hidden layout and W2 with size 10x26 mapping from hidden layout to output layout."
   ]
  },
  {
   "cell_type": "code",
   "execution_count": 6,
   "metadata": {
    "collapsed": true
   },
   "outputs": [],
   "source": [
    "# define neural network architecture\n",
    "INPUT_LAYER_SIZE = 400 # number of features \n",
    "HIDDEN_LAYER_SIZE = [25,25] # number of hidden layers and number of node in each layers\n",
    "OUTPUT_LAYER_SIZE = 10 # number of output layers"
   ]
  },
  {
   "cell_type": "code",
   "execution_count": 7,
   "metadata": {
    "collapsed": true
   },
   "outputs": [],
   "source": [
    "def randomInitialize(inputs_size, hiddens_sizes, outputs_size, epsilon=0.001):\n",
    "    \"\"\"\n",
    "    Create all the Weights matrix for our neural network and random initialize it in range [-epsilon -> epsilon].\n",
    "    Return one big vector contains all the unroll Weights matrix.\n",
    "    \n",
    "    Input : inputs_size   (int)    : number of features\n",
    "            hiddens_sizes (list)   : a list contain the number of node in each hidden layer\n",
    "            outputs_size  (int)    : number of node in the output layer\n",
    "            epsilon       (float)  : initialize value range of Neural Network Weights\n",
    "            \n",
    "    Output : Ws_unroll    (ndarray): vector contain the unroll Neural Network Weights\n",
    "    \"\"\"\n",
    "    num_Weights = 0\n",
    "    previousLayerSize = inputs_size\n",
    "    not_input_layers = [x for x in HIDDEN_LAYER_SIZE]\n",
    "    not_input_layers.append(outputs_size)\n",
    "    Ws = []\n",
    "    for currentLayerSize in not_input_layers:\n",
    "        num_Weights += currentLayerSize * (previousLayerSize+1)\n",
    "        Ws.append(np.random.uniform(-epsilon, epsilon, (currentLayerSize * (previousLayerSize+1), 1)))\n",
    "        previousLayerSize = currentLayerSize\n",
    "    \n",
    "    Ws_unroll = np.concatenate(Ws)\n",
    "    \n",
    "    return Ws_unroll"
   ]
  },
  {
   "cell_type": "code",
   "execution_count": 8,
   "metadata": {
    "collapsed": true
   },
   "outputs": [],
   "source": [
    "def extractWeights(Ws_unroll):\n",
    "    \"\"\"\n",
    "    Recreate Neural Network Weights from Unroll Weights base on Neural Network Architecture.\n",
    "    Input :  Ws_unroll (ndarray) : big Weights vector need to be extract\n",
    "    Output:  Ws        (list)    : list of Weights correctspond to each layer of neural network\n",
    "    \"\"\"\n",
    "     # Reshape Ws to bring Weight matrices back to it original\n",
    "    not_input_layers = [x for x in HIDDEN_LAYER_SIZE]\n",
    "    not_input_layers.append(OUTPUT_LAYER_SIZE)\n",
    "    \n",
    "    Ws = []\n",
    "    previous_layer_size = INPUT_LAYER_SIZE\n",
    "    current_weight_size = 0\n",
    "    for layer_size in not_input_layers:\n",
    "        layer_num_node = layer_size * (previous_layer_size+1)\n",
    "        Ws.append(np.reshape(Ws_unroll[current_weight_size:current_weight_size+layer_num_node], (layer_size, previous_layer_size+1)))\n",
    "        current_weight_size += layer_num_node\n",
    "        previous_layer_size = layer_size   \n",
    "    \n",
    "    return Ws"
   ]
  },
  {
   "cell_type": "code",
   "execution_count": 9,
   "metadata": {
    "collapsed": true
   },
   "outputs": [],
   "source": [
    "def feedforward(X, Ws_unroll):\n",
    "    \"\"\"\n",
    "    Compute output layer of neural network\n",
    "    Input  : X (ndarray)  : training examples\n",
    "             Ws_unroll (ndarray) : Weights of neural network in one big vector form\n",
    "            \n",
    "    Output : a  (ndarray) : output layer with respect to X\n",
    "    \"\"\"\n",
    "    \n",
    "    Ws = extractWeights(Ws_unroll)\n",
    "    \n",
    "    # Start feedforward algorithms\n",
    "    a = X\n",
    "    for i, W in enumerate(Ws):\n",
    "        z = np.dot(W, a.T)\n",
    "        a = sigmoid(z.T)\n",
    "        if(i != (len(Ws)) - 1) : # not output layer\n",
    "            a = np.insert(a, 0, 1, axis=1)\n",
    "\n",
    "    return a"
   ]
  },
  {
   "cell_type": "markdown",
   "metadata": {},
   "source": [
    "Transform y from vector to big Y matrix contains only 0 and 1, where each row now is not a number but a vector.\n",
    "If $x^{i}$ is correctsponding to the number 5  then $y^{i}$ would be a vector where $y_i$ = 1 and the rest is 0"
   ]
  },
  {
   "cell_type": "code",
   "execution_count": 10,
   "metadata": {
    "collapsed": true
   },
   "outputs": [],
   "source": [
    "Y = np.zeros((y.shape[0], OUTPUT_LAYER_SIZE))\n",
    "for i in range(OUTPUT_LAYER_SIZE):\n",
    "    Y[np.where(y==i)[0], i] = 1"
   ]
  },
  {
   "cell_type": "markdown",
   "metadata": {},
   "source": [
    "Compute neural network cost function"
   ]
  },
  {
   "cell_type": "code",
   "execution_count": 11,
   "metadata": {
    "collapsed": true
   },
   "outputs": [],
   "source": [
    "def nnRegularization(Ws_unroll, m, _lambda):\n",
    "    \"\"\"\n",
    "    Compute the regularization term of neural network cost function\n",
    "    Input  : Ws_unroll (ndarray)   : Weights of neural network in one big vector form\n",
    "             m          (int)      : number of training examples in data set\n",
    "             _lambda      (number) : value control how we want to penalize our weights,\n",
    "                                     if _lambda is big it mean we want \n",
    "                                     the value of all the weights in our network is pretty small, prevent overfitting\n",
    "    Output : Reg       (float)     : Value of regularization term \n",
    "    \"\"\"\n",
    "    \n",
    "    Reg = 0\n",
    "    Ws = extractWeights(Ws_unroll)\n",
    "    \n",
    "    for w in Ws:\n",
    "        Reg += np.dot(w[:, 1:].ravel().T, w[:, 1:].ravel())\n",
    "        \n",
    "    Reg *= (_lambda / (2*m))\n",
    "    \n",
    "    return Reg"
   ]
  },
  {
   "cell_type": "code",
   "execution_count": 12,
   "metadata": {
    "collapsed": true
   },
   "outputs": [],
   "source": [
    "def nnCostFunction(Ws_unroll, X, Y, _lambda=0):\n",
    "    \"\"\"\n",
    "    Compute neural network model cost function\n",
    "    Input:   Ws_unroll (ndarray) : Weights of neural network in one big vector form\n",
    "             X (ndarray)         : training set\n",
    "             Y (ndarray)         : training set label\n",
    "             _lambda (float)     : value of regularize term\n",
    "             \n",
    "    Output:  Cost    (float)     : Cost of neural network base on training set (X,Y) with respect to Weights Ws_unroll\n",
    "    \"\"\"\n",
    "    m,_ = X.shape\n",
    "    NUM_LABELS = Y.shape[1]\n",
    "    h_x = feedforward(X, Ws_unroll)\n",
    "    \n",
    "    Cost = 0\n",
    "    for i in range(NUM_LABELS):\n",
    "        Cost += -np.dot(Y[:,[i]].T, np.log(h_x[:,[i]])) - np.dot((1-Y[:,[i]]).T, np.log(1 - h_x[:,[i]]) )\n",
    "    Cost /= m\n",
    "    Cost += nnRegularization(Ws_unroll, m, _lambda)\n",
    "    \n",
    "    return Cost"
   ]
  },
  {
   "cell_type": "markdown",
   "metadata": {},
   "source": [
    "Compute derivative of sigmoid activation function"
   ]
  },
  {
   "cell_type": "code",
   "execution_count": 13,
   "metadata": {
    "collapsed": true
   },
   "outputs": [],
   "source": [
    "def sigmoidGradient(z):\n",
    "    return sigmoid(z) * (1 - sigmoid(z))"
   ]
  },
  {
   "cell_type": "markdown",
   "metadata": {},
   "source": [
    "Compute partial derivative of all the Weights in out neural network model using back propagation algorithm"
   ]
  },
  {
   "cell_type": "code",
   "execution_count": 14,
   "metadata": {
    "collapsed": true
   },
   "outputs": [],
   "source": [
    "def backPropagation(Ws_Unroll, X, Y, alpha=1, _lambda=0):\n",
    "    \"\"\"\n",
    "    Compute the gradient of our Neural network model using back propagation algorithm.\n",
    "    Input : Ws_Unroll (ndarray) : Current Weights of neural network need to compute gradient\n",
    "            X (ndarray)         : Training Example in Training set\n",
    "            Y (ndarray)         : Training Labels in Training set\n",
    "            alpha (float)       : value of learning rate\n",
    "            _lambda (float)     : value of regularize term\n",
    "            \n",
    "    Output: Ws_grad_unroll (ndarray) : big vector contains all the gradient of neural network with respect to Ws_unroll\n",
    "    \"\"\"\n",
    "    \n",
    "    m,n = X.shape\n",
    "    Ws = extractWeights(Ws_Unroll)\n",
    "    # Start feedforward algorithms\n",
    "    _a = [0] * (len(HIDDEN_LAYER_SIZE) + 2) # create _a with number element equal number of layers\n",
    "    _z = [0] * (len(HIDDEN_LAYER_SIZE) + 2) # create _z with number element equal number of layers\n",
    "    _a[0] = X\n",
    "    for i, W in enumerate(Ws):\n",
    "        z = np.dot(W, _a[i].T)\n",
    "        _z[i+1] = z\n",
    "        a = sigmoid(z.T)\n",
    "        if(i != (len(Ws)) - 1) : # not output layer\n",
    "            a = np.insert(a, 0, 1, axis=1)\n",
    "        _a[i+1]= a\n",
    "        \n",
    "        \n",
    "    _delta = [0]  * (len(HIDDEN_LAYER_SIZE) + 1)  # _delta hold error term for each layers except input layer\n",
    "    _delta[-1] = _a[-1] - Y # H - Y\n",
    "    \n",
    "    for i in range(len(HIDDEN_LAYER_SIZE), 0, -1):\n",
    "        _delta[i-1] = np.dot(_delta[i], Ws[i][:,1:]) * sigmoidGradient(_z[i].T)\n",
    "    \n",
    "    W_grads = []\n",
    "    for i in range(len(_delta)):\n",
    "        grad = np.dot(_delta[i].T, _a[i]) * (alpha/m)\n",
    "        grad[:,1:] += grad[:,1:] * (_lambda / m)\n",
    "        grad_unroll = grad.ravel()\n",
    "        W_grads.append(np.reshape(grad_unroll, (grad_unroll.shape[0], 1)))\n",
    "        \n",
    "    W_grad_unroll = np.concatenate(W_grads)\n",
    "    \n",
    "    return W_grad_unroll"
   ]
  },
  {
   "cell_type": "markdown",
   "metadata": {},
   "source": [
    "Start training our neural network using mini batch gradient descent"
   ]
  },
  {
   "cell_type": "code",
   "execution_count": 15,
   "metadata": {
    "collapsed": true
   },
   "outputs": [],
   "source": [
    "def trainNN(Weights, X, Y, alpha=1, _lambda=0, batch_size=5000, stochastic_loop=1):\n",
    "    m,n = X.shape\n",
    "    \n",
    "    for loop in range(stochastic_loop):\n",
    "        for i in range(0, m, batch_size):\n",
    "            W_grads = backPropagation(Weights, X[i:i+batch_size], Y[i:i+batch_size], alpha, _lambda)\n",
    "            Weights -= W_grads\n",
    "           \n",
    "        print('Iteration %d - Cost : %s' %  ( loop, str(nnCostFunction(Weights, X, Y, _lambda))), end='\\r')\n",
    "    return Weights"
   ]
  },
  {
   "cell_type": "code",
   "execution_count": 16,
   "metadata": {
    "collapsed": true
   },
   "outputs": [],
   "source": [
    "Weights = randomInitialize(INPUT_LAYER_SIZE, HIDDEN_LAYER_SIZE, OUTPUT_LAYER_SIZE)"
   ]
  },
  {
   "cell_type": "code",
   "execution_count": 17,
   "metadata": {},
   "outputs": [
    {
     "name": "stdout",
     "output_type": "stream",
     "text": [
      "Iteration 99 - Cost : [[ 3.26156679]]\r"
     ]
    }
   ],
   "source": [
    "Weights = trainNN(Weights, X, Y, alpha=0.1, _lambda=1, batch_size=512, stochastic_loop=100)"
   ]
  },
  {
   "cell_type": "markdown",
   "metadata": {},
   "source": [
    "Compute accuracy of our model on data set"
   ]
  },
  {
   "cell_type": "code",
   "execution_count": 18,
   "metadata": {
    "collapsed": true
   },
   "outputs": [],
   "source": [
    "def predict(Weights, X):\n",
    "    hx = feedforward(X, Weights)\n",
    "    m,_ = X.shape\n",
    "    predict = np.argmax(hx, axis=1).reshape((m, 1))\n",
    "    \n",
    "    return predict"
   ]
  },
  {
   "cell_type": "code",
   "execution_count": 19,
   "metadata": {
    "collapsed": true
   },
   "outputs": [],
   "source": [
    "def score(Weights, X, y):\n",
    "    m,_ = X.shape\n",
    "    return sum(predict(Weights, X)==y) /m"
   ]
  },
  {
   "cell_type": "code",
   "execution_count": 20,
   "metadata": {},
   "outputs": [
    {
     "data": {
      "text/plain": [
       "array([ 0.1])"
      ]
     },
     "execution_count": 20,
     "metadata": {},
     "output_type": "execute_result"
    }
   ],
   "source": [
    "score(Weights, X, y)"
   ]
  },
  {
   "cell_type": "markdown",
   "metadata": {},
   "source": [
    "### Training neural network model with scikit-learn"
   ]
  },
  {
   "cell_type": "code",
   "execution_count": 25,
   "metadata": {},
   "outputs": [],
   "source": [
    "from sklearn.neural_network import MLPClassifier\n",
    "nnClassifier = MLPClassifier()"
   ]
  },
  {
   "cell_type": "code",
   "execution_count": 32,
   "metadata": {},
   "outputs": [
    {
     "data": {
      "text/plain": [
       "MLPClassifier(activation='relu', alpha=0.0001, batch_size='auto', beta_1=0.9,\n",
       "       beta_2=0.999, early_stopping=False, epsilon=1e-08,\n",
       "       hidden_layer_sizes=(100,), learning_rate='constant',\n",
       "       learning_rate_init=0.001, max_iter=200, momentum=0.9,\n",
       "       nesterovs_momentum=True, power_t=0.5, random_state=None,\n",
       "       shuffle=True, solver='adam', tol=0.0001, validation_fraction=0.1,\n",
       "       verbose=False, warm_start=False)"
      ]
     },
     "execution_count": 32,
     "metadata": {},
     "output_type": "execute_result"
    }
   ],
   "source": [
    "nnClassifier.fit(X[:,1:], y.ravel())"
   ]
  },
  {
   "cell_type": "code",
   "execution_count": 33,
   "metadata": {},
   "outputs": [
    {
     "data": {
      "text/plain": [
       "1.0"
      ]
     },
     "execution_count": 33,
     "metadata": {},
     "output_type": "execute_result"
    }
   ],
   "source": [
    "nnClassifier.score(X[:,1:], y.ravel())"
   ]
  },
  {
   "cell_type": "code",
   "execution_count": 46,
   "metadata": {
    "collapsed": true
   },
   "outputs": [],
   "source": [
    "indices = np.arange(X.shape[0])\n",
    "np.random.shuffle(indices)"
   ]
  },
  {
   "cell_type": "code",
   "execution_count": 56,
   "metadata": {
    "collapsed": true
   },
   "outputs": [],
   "source": [
    "IMAGE_SIZE = 20\n",
    "train_data = io.loadmat('ex4data1.mat')\n",
    "# X = np.insert(train_data['X'], 0, 1, axis=1) # add bias column at the beginning of X\n",
    "X = train_data['X']\n",
    "y = train_data['y']\n",
    "y[y==10]=0 # convert matlab index to python index"
   ]
  },
  {
   "cell_type": "code",
   "execution_count": 60,
   "metadata": {
    "collapsed": true
   },
   "outputs": [],
   "source": [
    "X_train = X[indices[0:3000],:]\n",
    "X_validation = X[indices[3000:4000],:]\n",
    "X_test = X[indices[4000:],:]\n",
    "\n",
    "y_train = y[indices[0:3000],:]\n",
    "y_validation = y[indices[3000:4000],:]\n",
    "y_test = y[indices[4000:],:]\n"
   ]
  },
  {
   "cell_type": "code",
   "execution_count": 71,
   "metadata": {},
   "outputs": [
    {
     "data": {
      "text/plain": [
       "MLPClassifier(activation='relu', alpha=0.0001, batch_size='auto', beta_1=0.9,\n",
       "       beta_2=0.999, early_stopping=False, epsilon=1e-08,\n",
       "       hidden_layer_sizes=(100, 100, 100, 100, 100, 100),\n",
       "       learning_rate='constant', learning_rate_init=0.001, max_iter=200,\n",
       "       momentum=0.9, nesterovs_momentum=True, power_t=0.5,\n",
       "       random_state=None, shuffle=True, solver='adam', tol=0.0001,\n",
       "       validation_fraction=0.1, verbose=False, warm_start=False)"
      ]
     },
     "execution_count": 71,
     "metadata": {},
     "output_type": "execute_result"
    }
   ],
   "source": [
    "nnClassifier.fit(X_train, y_train.ravel())"
   ]
  },
  {
   "cell_type": "code",
   "execution_count": 72,
   "metadata": {},
   "outputs": [
    {
     "data": {
      "text/plain": [
       "0.92900000000000005"
      ]
     },
     "execution_count": 72,
     "metadata": {},
     "output_type": "execute_result"
    }
   ],
   "source": [
    "nnClassifier.score(X_validation, y_validation.ravel())"
   ]
  },
  {
   "cell_type": "code",
   "execution_count": null,
   "metadata": {
    "collapsed": true
   },
   "outputs": [],
   "source": []
  }
 ],
 "metadata": {
  "anaconda-cloud": {},
  "kernelspec": {
   "display_name": "Python 3",
   "language": "python",
   "name": "python3"
  },
  "language_info": {
   "codemirror_mode": {
    "name": "ipython",
    "version": 3
   },
   "file_extension": ".py",
   "mimetype": "text/x-python",
   "name": "python",
   "nbconvert_exporter": "python",
   "pygments_lexer": "ipython3",
   "version": "3.6.3"
  }
 },
 "nbformat": 4,
 "nbformat_minor": 2
}
