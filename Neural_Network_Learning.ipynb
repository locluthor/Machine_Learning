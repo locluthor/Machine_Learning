{
 "cells": [
  {
   "cell_type": "code",
   "execution_count": 1,
   "metadata": {},
   "outputs": [],
   "source": [
    "%matplotlib inline\n",
    "import numpy as np\n",
    "from scipy import io\n",
    "import matplotlib.pyplot as plt\n",
    "import math"
   ]
  },
  {
   "cell_type": "markdown",
   "metadata": {},
   "source": [
    "Loading training data."
   ]
  },
  {
   "cell_type": "code",
   "execution_count": 2,
   "metadata": {},
   "outputs": [],
   "source": [
    "IMAGE_SIZE = 20\n",
    "train_data = io.loadmat('ex4data1.mat')\n",
    "X = np.insert(train_data['X'], 0, 1, axis=1) # add bias column at the beginning of X\n",
    "y = train_data['y']\n",
    "y[y==10]=0 # convert matlab index to python index"
   ]
  },
  {
   "cell_type": "markdown",
   "metadata": {},
   "source": [
    "Visual training data."
   ]
  },
  {
   "cell_type": "code",
   "execution_count": 3,
   "metadata": {},
   "outputs": [],
   "source": [
    "def display_data(data):\n",
    "    m,n = data.shape\n",
    "    row_width = int(np.sqrt(m))\n",
    "    img_width = img_height = int(np.sqrt(n))\n",
    "    img_show = np.empty((row_width*img_width, img_width*row_width))\n",
    "    for i in range(row_width):\n",
    "        for j in range(row_width):\n",
    "            img_show[img_height*i:(img_height*i)+img_height, img_width*j:img_width*j + img_width] = \\\n",
    "            np.reshape(data[i*row_width + j, :], (img_height, img_width), order='F')\n",
    "            \n",
    "    plt.imshow(img_show)"
   ]
  },
  {
   "cell_type": "code",
   "execution_count": 4,
   "metadata": {},
   "outputs": [
    {
     "data": {
      "image/png": "[encoded data removed]",
      "text/plain": [
       "<matplotlib.figure.Figure at 0x1477fce1a20>"
      ]
     },
     "metadata": {},
     "output_type": "display_data"
    }
   ],
   "source": [
    "idx = np.random.randint(X.shape[0], size=36)\n",
    "display_data(X[idx, 1:])"
   ]
  },
  {
   "cell_type": "markdown",
   "metadata": {},
   "source": [
    "Implement sigmoid activation function."
   ]
  },
  {
   "cell_type": "code",
   "execution_count": 5,
   "metadata": {},
   "outputs": [],
   "source": [
    "def sigmoid(value):\n",
    "    return 1 / (1 + math.e ** (-value))"
   ]
  },
  {
   "cell_type": "markdown",
   "metadata": {},
   "source": [
    "Compute feedfoward prediction, our neural network have 3 layout: 1 input, 1 hidden and 1 output layout.\n",
    "So we will have 2 weight matrix that need to update: W1 with size 25x401 mapping from input layout to hidden layout and W2 with size 10x26 mapping from hidden layout to output layout."
   ]
  },
  {
   "cell_type": "code",
   "execution_count": 6,
   "metadata": {},
   "outputs": [],
   "source": [
    "# define neural network architecture\n",
    "INPUT_LAYER_SIZE = 400\n",
    "HIDDEN_LAYER_SIZE = 25\n",
    "OUTPUT_LAYER_SIZE = 10"
   ]
  },
  {
   "cell_type": "code",
   "execution_count": 7,
   "metadata": {},
   "outputs": [],
   "source": [
    "# construct our Weights matrix\n",
    "epsilon = 1\n",
    "W1 = np.random.uniform(-epsilon, epsilon, (HIDDEN_LAYER_SIZE, INPUT_LAYER_SIZE+1))\n",
    "W2 = np.random.uniform(-epsilon, epsilon, (OUTPUT_LAYER_SIZE, HIDDEN_LAYER_SIZE+1))\n",
    "\n",
    "Weights = [W1, W2]"
   ]
  },
  {
   "cell_type": "code",
   "execution_count": 93,
   "metadata": {},
   "outputs": [],
   "source": [
    "def feedforward(X, Ws):\n",
    "    a = X\n",
    "    for i, W in enumerate(Ws):\n",
    "        z = np.dot(W, a.T)\n",
    "        a = sigmoid(z)\n",
    "        if(i != (len(Ws)) - 1) : # not output layer\n",
    "            a = np.insert(a.T, 0, 1, axis=1)\n",
    "\n",
    "    return a.T"
   ]
  },
  {
   "cell_type": "markdown",
   "metadata": {},
   "source": [
    "Transform y from vector to big Y matrix contains only 0 and 1, where each row now is not a number but a vector.\n",
    "If $x^{i}$ is correctsponding to the number 5  then $y^{i}$ would be a vector where $y_i$ = 1 and the rest is 0"
   ]
  },
  {
   "cell_type": "code",
   "execution_count": 9,
   "metadata": {},
   "outputs": [],
   "source": [
    "Y = np.zeros((y.shape[0], OUTPUT_LAYER_SIZE))\n",
    "for i in range(OUTPUT_LAYER_SIZE):\n",
    "    Y[np.where(y==i)[0], i] = 1"
   ]
  },
  {
   "cell_type": "markdown",
   "metadata": {},
   "source": [
    "Compute neural network cost function"
   ]
  },
  {
   "cell_type": "code",
   "execution_count": 96,
   "metadata": {},
   "outputs": [],
   "source": [
    "def nnRegularization(Weights, num_examples,  _lambda):\n",
    "    reg = 0\n",
    "    for ws in Weights:\n",
    "        reg += np.dot(ws[:, 1:].ravel().T, ws[:, 1:].ravel())\n",
    "    \n",
    "    return (_lambda / (2*num_examples)) * reg"
   ]
  },
  {
   "cell_type": "code",
   "execution_count": 97,
   "metadata": {},
   "outputs": [],
   "source": [
    "def nnCostFunction(Weights, X, Y, _lambda=0):\n",
    "    m,_ = X.shape\n",
    "    NUM_LABELS = Y.shape[1]\n",
    "    h_x = feedforward(X, Weights)\n",
    "    Cost = 0\n",
    "    for i in range(NUM_LABELS): # Sum cost of each node in output layer\n",
    "        Cost += -np.dot(Y[:,[i]].T, np.log(h_x[:,[i]])) - np.dot((1-Y[:,[i]]).T, np.log(1 - h_x[:,[i]]) )\n",
    "    Cost /= m\n",
    "    reg = nnRegularization(Weights, m, _lambda)\n",
    "    \n",
    "    return Cost + reg"
   ]
  },
  {
   "cell_type": "code",
   "execution_count": 103,
   "metadata": {},
   "outputs": [
    {
     "data": {
      "text/plain": [
       "array([[ 19.01078522]])"
      ]
     },
     "execution_count": 103,
     "metadata": {},
     "output_type": "execute_result"
    }
   ],
   "source": [
    "nnCostFunction(Weights, X, Y, _lambda=0)"
   ]
  },
  {
   "cell_type": "code",
   "execution_count": null,
   "metadata": {},
   "outputs": [],
   "source": []
  }
 ],
 "metadata": {
  "kernelspec": {
   "display_name": "Python 3",
   "language": "python",
   "name": "python3"
  },
  "language_info": {
   "codemirror_mode": {
    "name": "ipython",
    "version": 3
   },
   "file_extension": ".py",
   "mimetype": "text/x-python",
   "name": "python",
   "nbconvert_exporter": "python",
   "pygments_lexer": "ipython3",
   "version": "3.5.0"
  }
 },
 "nbformat": 4,
 "nbformat_minor": 2
}
