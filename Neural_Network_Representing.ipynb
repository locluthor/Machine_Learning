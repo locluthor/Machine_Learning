{
 "cells": [
  {
   "cell_type": "markdown",
   "metadata": {},
   "source": [
    "## Multi-class classification with logistic regression"
   ]
  },
  {
   "cell_type": "code",
   "execution_count": 338,
   "metadata": {},
   "outputs": [],
   "source": [
    "%matplotlib inline\n",
    "import numpy as np\n",
    "from scipy import io\n",
    "import matplotlib.pyplot as plt\n",
    "import matplotlib.image as mpimg\n",
    "import math\n",
    "from sklearn.linear_model import LogisticRegression\n",
    "import time\n",
    "from IPython import display"
   ]
  },
  {
   "cell_type": "code",
   "execution_count": 2,
   "metadata": {},
   "outputs": [],
   "source": [
    "IMAGE_SIZE = 20"
   ]
  },
  {
   "cell_type": "markdown",
   "metadata": {},
   "source": [
    "#### Loading data from matlab file using scipy.io.loadmat()"
   ]
  },
  {
   "cell_type": "code",
   "execution_count": 3,
   "metadata": {},
   "outputs": [],
   "source": [
    "train_data = io.loadmat(\"ex3data1.mat\")\n",
    "X = train_data['X']\n",
    "y = train_data['y']"
   ]
  },
  {
   "cell_type": "markdown",
   "metadata": {},
   "source": [
    "#### Change output label of \"0\" from \"10\" to \"0\" because python index start from 0 not 1 like MATLAB"
   ]
  },
  {
   "cell_type": "code",
   "execution_count": 4,
   "metadata": {},
   "outputs": [],
   "source": [
    "y[y==10] = 0"
   ]
  },
  {
   "cell_type": "markdown",
   "metadata": {},
   "source": [
    "Please note that the $reshape()$ function in NUMPY and MATLAB default behavior is different,\n",
    "To make $reshape()$ in numpy behave the same we add flag order=\"F\" when call reshape function in numpy"
   ]
  },
  {
   "cell_type": "code",
   "execution_count": 5,
   "metadata": {},
   "outputs": [],
   "source": [
    "def display_data(data):\n",
    "    m,n = data.shape\n",
    "    row_width = int(np.sqrt(m))\n",
    "    img_width = img_height = int(np.sqrt(n))\n",
    "    img_show = np.empty((row_width*img_width, img_width*row_width))\n",
    "    for i in range(row_width):\n",
    "        for j in range(row_width):\n",
    "            img_show[img_height*i:(img_height*i)+img_height, img_width*j:img_width*j + img_width] = \\\n",
    "            np.reshape(data[i*row_width + j, :], (img_height, img_width), order='F')\n",
    "            \n",
    "    plt.imshow(img_show)"
   ]
  },
  {
   "cell_type": "code",
   "execution_count": 89,
   "metadata": {},
   "outputs": [
    {
     "data": {
      "image/png": "[encoded data removed]",
      "text/plain": [
       "<matplotlib.figure.Figure at 0x209b51bf9b0>"
      ]
     },
     "metadata": {},
     "output_type": "display_data"
    }
   ],
   "source": [
    "idx = np.random.randint(X.shape[0], size=25)\n",
    "display_data(X[idx, :])"
   ]
  },
  {
   "cell_type": "markdown",
   "metadata": {},
   "source": [
    "Compute logistic regression cost function and gradient"
   ]
  },
  {
   "cell_type": "code",
   "execution_count": 164,
   "metadata": {},
   "outputs": [],
   "source": [
    "def sigmoid(value):\n",
    "    return 1 / (1 + math.e ** (-value))"
   ]
  },
  {
   "cell_type": "code",
   "execution_count": 165,
   "metadata": {},
   "outputs": [],
   "source": [
    "def lrCost(theta, X, y, _lambda=0):\n",
    "#     print('theta', theta.shape, 'X', X.shape, 'y', y.shape)\n",
    "    m,n = X.shape\n",
    "    Z = np.dot(X, theta)\n",
    "    H = sigmoid(Z)\n",
    "    C = (1/m) * ( -np.dot(y.T, np.log(H)) - np.dot((1-y).T, np.log(1 - H) ))\n",
    "    Regularization = (_lambda/(2*m)) * np.dot(theta[1:].T, theta[1:])\n",
    "    \n",
    "    return C + Regularization"
   ]
  },
  {
   "cell_type": "code",
   "execution_count": 166,
   "metadata": {},
   "outputs": [],
   "source": [
    "def lrGradient(theta, X, y, alpha=1, _lambda=0):\n",
    "    m,n = X.shape\n",
    "    regularization = (_lambda/m) * theta[1:]\n",
    "    grad_theta =  (alpha/m) * np.dot(X.T, (sigmoid(np.dot(X, theta)) - np.reshape(y, (m, 1))))\n",
    "    grad_theta[1:] = grad_theta[1:] + regularization\n",
    "    return grad_theta"
   ]
  },
  {
   "cell_type": "code",
   "execution_count": 167,
   "metadata": {},
   "outputs": [],
   "source": [
    "def oneVsAll(X, y, num_labels, alpha=1, _lambda=0, num_iteration=100):\n",
    "    m,n = X.shape\n",
    "    all_theta = np.zeros((n+1, num_labels))\n",
    "    X = np.insert(X, 0, 1, axis=1)\n",
    "    \n",
    "    for i in range(num_labels):\n",
    "        y_label = y.copy()\n",
    "        # Convert y to binary vector for each labels\n",
    "        # Example : if label = 5 then y vector value = 1 if the value at that index = 5 otherwise 0\n",
    "        idx0 = y_label!=i\n",
    "        idx1 = y_label==i\n",
    "        y_label[idx1] = 1\n",
    "        y_label[idx0] = 0\n",
    "        \n",
    "        # Use gradient descent to minimize the Cost of each output label\n",
    "        for j in range(num_iteration):\n",
    "            print('Label ' + str(i) + ',Iteration :' + str(j) + ', Cost : ' + str(lrCost(all_theta[:,[i]], X, y_label, _lambda)), end='\\r')\n",
    "            all_theta[:,[i]] = all_theta[:,[i]] - lrGradient(all_theta[:,[i]], X, y_label, alpha, _lambda)\n",
    "            \n",
    "        print('\\n')\n",
    "    return all_theta\n",
    "        "
   ]
  },
  {
   "cell_type": "code",
   "execution_count": 186,
   "metadata": {},
   "outputs": [],
   "source": [
    "def predict(thetas, image):\n",
    "    output = np.dot(thetas.T, np.insert(image, 0, 1, axis=1).T)\n",
    "    return sigmoid(output)"
   ]
  },
  {
   "cell_type": "code",
   "execution_count": 209,
   "metadata": {},
   "outputs": [],
   "source": [
    "def accuracy(thetas, X, y):\n",
    "    m,n = X.shape\n",
    "    prediction = np.reshape(np.argmax(predict(thetas, X), axis=0), (m, 1))\n",
    "    return (sum(prediction==y) / 5000) * 100"
   ]
  },
  {
   "cell_type": "code",
   "execution_count": 231,
   "metadata": {},
   "outputs": [],
   "source": [
    "def visualizeAndPredict(thetas, image, labels):\n",
    "    plt.imshow(np.reshape(image, (IMAGE_SIZE, IMAGE_SIZE), order='F'))\n",
    "    print('Predict : ', np.argmax(predict(thetas, image)), 'Actual :', labels)"
   ]
  },
  {
   "cell_type": "code",
   "execution_count": 173,
   "metadata": {
    "scrolled": true
   },
   "outputs": [
    {
     "name": "stdout",
     "output_type": "stream",
     "text": [
      "Label 0,Iteration :9999, Cost : [[ 0.00815188]]\n",
      "\n",
      "Label 1,Iteration :9999, Cost : [[ 0.01389556]]\n",
      "\n",
      "Label 2,Iteration :9999, Cost : [[ 0.05148084]]\n",
      "\n",
      "Label 3,Iteration :9999, Cost : [[ 0.05842248]]\n",
      "\n",
      "Label 4,Iteration :9999, Cost : [[ 0.03362541]]\n",
      "\n",
      "Label 5,Iteration :9999, Cost : [[ 0.05433842]]\n",
      "\n",
      "Label 6,Iteration :9999, Cost : [[ 0.01925872]]\n",
      "\n",
      "Label 7,Iteration :9999, Cost : [[ 0.0313976]]]\n",
      "\n",
      "Label 8,Iteration :9999, Cost : [[ 0.07838953]]\n",
      "\n",
      "Label 9,Iteration :9999, Cost : [[ 0.07087583]]\n",
      "\n"
     ]
    }
   ],
   "source": [
    "thetas = oneVsAll(X, y, 10, alpha=1, _lambda=0, num_iteration=10000)"
   ]
  },
  {
   "cell_type": "code",
   "execution_count": 210,
   "metadata": {},
   "outputs": [
    {
     "data": {
      "text/plain": [
       "array([ 95.32])"
      ]
     },
     "execution_count": 210,
     "metadata": {},
     "output_type": "execute_result"
    }
   ],
   "source": [
    "accuracy(thetas, X, y)"
   ]
  },
  {
   "cell_type": "code",
   "execution_count": 282,
   "metadata": {},
   "outputs": [
    {
     "name": "stdout",
     "output_type": "stream",
     "text": [
      "Predict :  1 Actual : [[1]]\n"
     ]
    },
    {
     "data": {
      "image/png": "[encoded data removed]",
      "text/plain": [
       "<matplotlib.figure.Figure at 0x209b75b3cf8>"
      ]
     },
     "metadata": {},
     "output_type": "display_data"
    }
   ],
   "source": [
    "idx = np.random.randint(X.shape[0], size=1)\n",
    "visualizeAndPredict(thetas, X[idx,:], y[idx])"
   ]
  },
  {
   "cell_type": "markdown",
   "metadata": {},
   "source": [
    "#### Using Scikit-Learn Logistic regression to train our model"
   ]
  },
  {
   "cell_type": "code",
   "execution_count": 284,
   "metadata": {},
   "outputs": [],
   "source": [
    "multi_lg = LogisticRegression()"
   ]
  },
  {
   "cell_type": "code",
   "execution_count": 305,
   "metadata": {},
   "outputs": [
    {
     "data": {
      "text/plain": [
       "LogisticRegression(C=1.0, class_weight=None, dual=False, fit_intercept=True,\n",
       "          intercept_scaling=1, max_iter=100, multi_class='ovr', n_jobs=1,\n",
       "          penalty='l2', random_state=None, solver='liblinear', tol=0.0001,\n",
       "          verbose=0, warm_start=False)"
      ]
     },
     "execution_count": 305,
     "metadata": {},
     "output_type": "execute_result"
    }
   ],
   "source": [
    "multi_lg.fit(X, y.ravel())"
   ]
  },
  {
   "cell_type": "code",
   "execution_count": 306,
   "metadata": {},
   "outputs": [
    {
     "data": {
      "text/plain": [
       "0.94379999999999997"
      ]
     },
     "execution_count": 306,
     "metadata": {},
     "output_type": "execute_result"
    }
   ],
   "source": [
    "multi_lg.score(X, y)"
   ]
  },
  {
   "cell_type": "code",
   "execution_count": null,
   "metadata": {},
   "outputs": [],
   "source": [
    "def visualizeAndPredict_SK(thetas, image, labels):\n",
    "    plt.imshow(np.reshape(image, (IMAGE_SIZE, IMAGE_SIZE), order='F'))\n",
    "    display.clear_output(wait=True)\n",
    "    display.display(plt.gcf())\n",
    "    print('Predict : '+ str(multi_lg.predict(image))+ ',Actual :' + str(labels), end='\\r')"
   ]
  },
  {
   "cell_type": "markdown",
   "metadata": {},
   "source": [
    "Display images that our model's prediction is wrong"
   ]
  },
  {
   "cell_type": "code",
   "execution_count": 340,
   "metadata": {},
   "outputs": [],
   "source": [
    "def visualizeWrongPredict(thetas, image, labels):\n",
    "    prd = multi_lg.predict(image)\n",
    "    if (prd != labels):\n",
    "        visualizeAndPredict_SK(thetas, image, labels)\n",
    "        time.sleep(3)"
   ]
  },
  {
   "cell_type": "code",
   "execution_count": 351,
   "metadata": {},
   "outputs": [],
   "source": [
    "for i in range(X.shape[0]):\n",
    "    visualizeWrongPredict(thetas, X[[i],:], y[i])"
   ]
  },
  {
   "cell_type": "code",
   "execution_count": null,
   "metadata": {},
   "outputs": [],
   "source": []
  }
 ],
 "metadata": {
  "kernelspec": {
   "display_name": "Python 3",
   "language": "python",
   "name": "python3"
  },
  "language_info": {
   "codemirror_mode": {
    "name": "ipython",
    "version": 3
   },
   "file_extension": ".py",
   "mimetype": "text/x-python",
   "name": "python",
   "nbconvert_exporter": "python",
   "pygments_lexer": "ipython3",
   "version": "3.5.0"
  }
 },
 "nbformat": 4,
 "nbformat_minor": 2
}
