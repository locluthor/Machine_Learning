{
 "cells": [
  {
   "cell_type": "markdown",
   "metadata": {},
   "source": [
    "# Basic matrix operations"
   ]
  },
  {
   "cell_type": "code",
   "execution_count": 1,
   "metadata": {},
   "outputs": [],
   "source": [
    "import numpy as np\n",
    "from scipy import linalg"
   ]
  },
  {
   "cell_type": "code",
   "execution_count": 2,
   "metadata": {},
   "outputs": [],
   "source": [
    "A = np.array([[1, 3], [2, 5]])"
   ]
  },
  {
   "cell_type": "markdown",
   "metadata": {},
   "source": [
    "### Find inverse matrix\n"
   ]
  },
  {
   "cell_type": "code",
   "execution_count": 3,
   "metadata": {},
   "outputs": [],
   "source": [
    "### linalg.inv() return ValueError if matrix is not square.\n",
    "###              return LinAlgError if matrix is singular, not invertible\n",
    "\n",
    "\n",
    "A_inverse = linalg.inv(A)\n",
    "# print(A.dot(A_inverse)) -> return I if A is invertible"
   ]
  },
  {
   "cell_type": "markdown",
   "metadata": {},
   "source": [
    "### Transpose a matrix"
   ]
  },
  {
   "cell_type": "code",
   "execution_count": 4,
   "metadata": {},
   "outputs": [],
   "source": [
    "A_transpose = A.T\n",
    "# print(A.dot(A_transpose)) -> return symetrix matrix"
   ]
  },
  {
   "cell_type": "markdown",
   "metadata": {},
   "source": [
    "### Matrix multiplication"
   ]
  },
  {
   "cell_type": "code",
   "execution_count": 5,
   "metadata": {},
   "outputs": [],
   "source": [
    "b = np.array([[2, 8]]) # 1x2 matrix\n",
    "# A.dot(b) -> ValueError dimension mismatch 2x2 and 1x2\n",
    "# A.dot(b.T) -> It works, 2x2 times 2x1\n",
    "\n",
    "c = np.array([2, 8]) # 2D vector\n",
    "# A.dot(c) -> c is vector so dimension does not matter\n",
    "# A.dot(c.T) -> same as above"
   ]
  },
  {
   "cell_type": "markdown",
   "metadata": {},
   "source": [
    "### Solving linear system"
   ]
  },
  {
   "cell_type": "markdown",
   "metadata": {},
   "source": [
    "Solving linear systems of equations is straightforward using the scipy command linalg.solve. This command expects an input matrix and a right-hand-side vector. The solution vector is then computed. An option for entering a symmetric matrix is offered which can speed up the processing when applicable. As an example, suppose it is desired to solve the following simultaneous equations:\n",
    "\n",
    "\\begin{eqnarray*} x + 3y + 5z & = & 10 \\\\\n",
    "                   2x + 5y + z & = & 8  \\\\\n",
    "                   2x + 3y + 8z & = & 3\n",
    " \\end{eqnarray*}\n",
    "\n",
    "We could find the solution vector using a matrix inverse:\n",
    "\n",
    "\\begin{split}\\left[\\begin{array}{c} x\\\\ y\\\\ z\\end{array}\\right]=\\left[\\begin{array}{ccc} 1 & 3 & 5\\\\ 2 & 5 & 1\\\\ 2 & 3 & 8\\end{array}\\right]^{-1}\\left[\\begin{array}{c} 10\\\\ 8\\\\ 3\\end{array}\\right]=\\frac{1}{25}\\left[\\begin{array}{c} -232\\\\ 129\\\\ 19\\end{array}\\right]=\\left[\\begin{array}{c} -9.28\\\\ 5.16\\\\ 0.76\\end{array}\\right].\\end{split}\n",
    "\n",
    "However, it is better to use the $linalg.solve$ command which can be faster and more numerically stable. In this case it however gives the same answer as shown in the following example:"
   ]
  },
  {
   "cell_type": "code",
   "execution_count": 6,
   "metadata": {},
   "outputs": [],
   "source": [
    "x = linalg.inv(A).dot(c) # slow\n",
    "# (A.dot(x) - c) ## double check -> return [0. 0.]\n",
    "\n",
    "\n",
    "x = linalg.solve(A, c) # fast\n",
    "# A.dot(x) - c # double check -> return [0. 0.]\n",
    "\n",
    "### linalg.solve raise LinAlgError if A is singular"
   ]
  },
  {
   "cell_type": "markdown",
   "metadata": {},
   "source": [
    "### Finding determinant"
   ]
  },
  {
   "cell_type": "markdown",
   "metadata": {},
   "source": [
    "Determinant have 4 main properties\n",
    "1. Determinant of $I$ is 1\n",
    "2. Exchange a row of matrix change sign of it's determinant\n",
    "3. $det\\left(\\begin{bmatrix}ta & tb \\\\c & d \\end{bmatrix}\\right) = t*det\\left(\\begin{bmatrix}ta & tb \\\\c & d \\end{bmatrix}\\right)$\n",
    "4. $det\\left(\\begin{bmatrix}a+a^{'} & b+b^{'} \\\\c & d \\end{bmatrix}\\right) = det\\left(\\begin{bmatrix}a & b \\\\c & d \\end{bmatrix}\\right) + det\\left(\\begin{bmatrix}a^{'} & b^{'} \\\\c & d \\end{bmatrix}\\right)$\n",
    "\n"
   ]
  },
  {
   "cell_type": "code",
   "execution_count": 7,
   "metadata": {},
   "outputs": [],
   "source": [
    "det = linalg.det(A)"
   ]
  },
  {
   "cell_type": "markdown",
   "metadata": {},
   "source": [
    "### Matrix projection"
   ]
  },
  {
   "cell_type": "code",
   "execution_count": 8,
   "metadata": {},
   "outputs": [],
   "source": [
    "N = np.column_stack([ [1, 2, 3], [1, 1, 1] ])\n",
    "b = np.column_stack([ [2, 5, 2] ])\n",
    "\n",
    "\n",
    "# project b to column space of N\n",
    "P = N.dot(linalg.inv(N.T.dot(N)))\\\n",
    "     .dot(N.T)\n",
    "    \n",
    "b_prime = P.dot(b)\n",
    "# print(b_prime)\n",
    "\n"
   ]
  },
  {
   "cell_type": "markdown",
   "metadata": {},
   "source": [
    "Example use least square from Coursera Machine Learning Exercise 1"
   ]
  },
  {
   "cell_type": "code",
   "execution_count": 16,
   "metadata": {},
   "outputs": [],
   "source": [
    "data = np.loadtxt(\"ex1data1.txt\", delimiter=\",\")\n",
    "m, _ = data.shape # get number of training example\n",
    "\n",
    "X = np.column_stack( (np.ones((m, 1)) , data[:, 0]))\n",
    "y = np.reshape(data[:, 1], (m, -1))\n",
    "\n",
    "# project y into column space of X\n",
    "theta = linalg.inv(X.T.dot(X)) \\\n",
    "              .dot(X.T) \\\n",
    "              .dot(y)\n",
    "\n",
    "# computer error cost\n",
    "cost = (X.dot(theta) - y).T.dot(X.dot(theta) - y) / (2*m)"
   ]
  },
  {
   "cell_type": "markdown",
   "metadata": {},
   "source": [
    "Same as example before but this time we use scipy built-in function $scipy.linalg.lstsq$"
   ]
  },
  {
   "cell_type": "code",
   "execution_count": 10,
   "metadata": {},
   "outputs": [],
   "source": [
    "theta, cost, rank, s = linalg.lstsq(X, y)"
   ]
  },
  {
   "cell_type": "markdown",
   "metadata": {},
   "source": [
    "### Matrix decomposition"
   ]
  },
  {
   "cell_type": "markdown",
   "metadata": {},
   "source": [
    "##### PLU decomposition"
   ]
  },
  {
   "cell_type": "code",
   "execution_count": 11,
   "metadata": {},
   "outputs": [],
   "source": [
    "### linalg.lu()\n",
    "A = np.array([[0.8, 0.3],[0.2, 0.7]])\n",
    "\n",
    "### \n",
    "# P : Permutation matrix, if there is no row exchange operation then P = I\n",
    "# L : Lower Triangular matrix\n",
    "# U : Upper Triangular matrix\n",
    "P, L, U = linalg.lu(A) \n"
   ]
  },
  {
   "cell_type": "markdown",
   "metadata": {},
   "source": [
    "##### QR factorization"
   ]
  },
  {
   "cell_type": "code",
   "execution_count": 12,
   "metadata": {},
   "outputs": [
    {
     "name": "stdout",
     "output_type": "stream",
     "text": [
      "[[-0.26726124  0.87287156]\n",
      " [-0.53452248  0.21821789]\n",
      " [-0.80178373 -0.43643578]]\n"
     ]
    }
   ],
   "source": [
    "N = np.column_stack([ [1, 2, 3], [1, 1, 1] ])\n",
    "b = np.column_stack([ [2, 5, 2] ])\n",
    "\n",
    "Q, R = linalg.qr(N, mode='economic')  # Grand - Smidth factorization\n",
    "\n",
    "P = Q.dot(Q.T) # Project matrix becomes simple, because Q_Transpose . Q = Identity\n",
    "\n",
    "b_project = P.dot(b)\n",
    "print(Q)"
   ]
  },
  {
   "cell_type": "markdown",
   "metadata": {},
   "source": [
    "### EigenValues and EigenVectors"
   ]
  },
  {
   "cell_type": "code",
   "execution_count": 13,
   "metadata": {},
   "outputs": [],
   "source": [
    "A = np.array([[0.8, 0.3],[0.2, 0.7]]) # Markov matrix\n",
    "m, n = A.shape\n",
    "\n",
    "# w is eigenvalues of A\n",
    "# vr is eigenvectors of A respect with each w\n",
    "w, vr = linalg.eig(A)\n",
    "\n",
    "# double check eigenvectors\n",
    "A1 = A - w[0] * np.identity(n)\n",
    "result = A1.dot(vr[:, 0]) # this result have to be zero because this eigenvector belong to nullspace of A1\n",
    "\n",
    "A2 = A - w[1] * np.identity(n)\n",
    "result = A2.dot(vr[:, 1]) # this result have to be zero because this eigenvector belong to nullspace of A2\n",
    "\n",
    "# double check properties of eigenvalues and eigenvectors\n",
    "bigLambda = np.identity(n) * w  # create matrix contains eigenvalues on its diagonal\n",
    "S = vr\n",
    "\n",
    "# double check Eigen Decompositions matrix formula A = S.bigLambda.S_inverse \n",
    "result = A - S.dot(bigLambda).dot(linalg.inv(S))  # result have to be zero"
   ]
  },
  {
   "cell_type": "markdown",
   "metadata": {},
   "source": [
    "Eigenvectors of Symmetrix matrix\n",
    "\n",
    "If A is symmetric then it eigenvalues is REAL, and its eigenvectors is orthonomal"
   ]
  },
  {
   "cell_type": "code",
   "execution_count": 14,
   "metadata": {},
   "outputs": [
    {
     "data": {
      "text/plain": [
       "array([[ 1.,  0., -0.],\n",
       "       [ 0.,  1.,  0.],\n",
       "       [-0.,  0.,  1.]])"
      ]
     },
     "execution_count": 14,
     "metadata": {},
     "output_type": "execute_result"
    }
   ],
   "source": [
    "A = np.column_stack(([1, 3, 4], [3, 5, 2], [4, 2, 6]))\n",
    "\n",
    "w, vr = linalg.eig(A)\n",
    "\n",
    "np.around(vr.T.dot(vr), decimals=5)\n"
   ]
  },
  {
   "cell_type": "code",
   "execution_count": null,
   "metadata": {},
   "outputs": [],
   "source": []
  }
 ],
 "metadata": {
  "kernelspec": {
   "display_name": "Python 3",
   "language": "python",
   "name": "python3"
  },
  "language_info": {
   "codemirror_mode": {
    "name": "ipython",
    "version": 3
   },
   "file_extension": ".py",
   "mimetype": "text/x-python",
   "name": "python",
   "nbconvert_exporter": "python",
   "pygments_lexer": "ipython3",
   "version": "3.6.2"
  }
 },
 "nbformat": 4,
 "nbformat_minor": 2
}
